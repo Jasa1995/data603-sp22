{
  "nbformat": 4,
  "nbformat_minor": 0,
  "metadata": {
    "colab": {
      "name": "Untitled25.ipynb",
      "provenance": []
    },
    "kernelspec": {
      "name": "python3",
      "display_name": "Python 3"
    },
    "language_info": {
      "name": "python"
    }
  },
  "cells": [
    {
      "cell_type": "code",
      "execution_count": 13,
      "metadata": {
        "colab": {
          "base_uri": "https://localhost:8080/"
        },
        "id": "rL-qyAmdPBrC",
        "outputId": "7034c878-4cb9-4bcb-b442-2d57ede2efcd"
      },
      "outputs": [
        {
          "output_type": "stream",
          "name": "stdout",
          "text": [
            "The number of unique words in Tolstoy's War and Peace:  27520\n"
          ]
        }
      ],
      "source": [
        "#importing request library for accessing web urls\n",
        "from urllib import request\n",
        "from collections import Counter\n",
        "\n",
        "#converting the url into a text file\n",
        "url = \"https://www.gutenberg.org/files/2600/2600-0.txt\"\n",
        "Output = request.urlopen(url)\n",
        "rawtext = Output.read()\n",
        "text= rawtext.decode(\"utf-8-sig\")\n",
        "\n",
        "#segregating the words from the text file \n",
        "words=text.split()\n",
        "words = [word.strip(\".,!:()[]?;-\") for word in words]\n",
        "words = [word.replace(\"'\",\" \") for word in words]\n",
        "#counting the unique values in the words list\n",
        "unique = len(Counter(words).keys())\n",
        "\n",
        "#printing the result\n",
        "print(\"The number of unique words in Tolstoy's War and Peace: \",unique)"
      ]
    },
    {
      "cell_type": "code",
      "source": [
        ""
      ],
      "metadata": {
        "id": "70cfv8Gm6gRl"
      },
      "execution_count": null,
      "outputs": []
    }
  ]
}