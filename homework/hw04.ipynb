{
  "nbformat": 4,
  "nbformat_minor": 0,
  "metadata": {
    "colab": {
      "name": "hw04.ipynb",
      "provenance": [],
      "collapsed_sections": []
    },
    "kernelspec": {
      "name": "python3",
      "display_name": "Python 3"
    },
    "language_info": {
      "name": "python"
    }
  },
  "cells": [
    {
      "cell_type": "markdown",
      "source": [
        "Working with Baltimore City Crime Data"
      ],
      "metadata": {
        "id": "uyW1yN12BH5e"
      }
    },
    {
      "cell_type": "code",
      "execution_count": 2,
      "metadata": {
        "colab": {
          "base_uri": "https://localhost:8080/"
        },
        "id": "WQa-4oAG9vki",
        "outputId": "98260860-0e9e-49b2-8a3f-2bf49e0fcd69"
      },
      "outputs": [
        {
          "output_type": "stream",
          "name": "stdout",
          "text": [
            "Collecting pyspark\n",
            "  Downloading pyspark-3.2.1.tar.gz (281.4 MB)\n",
            "\u001b[K     |████████████████████████████████| 281.4 MB 36 kB/s \n",
            "\u001b[?25hCollecting py4j==0.10.9.3\n",
            "  Downloading py4j-0.10.9.3-py2.py3-none-any.whl (198 kB)\n",
            "\u001b[K     |████████████████████████████████| 198 kB 52.1 MB/s \n",
            "\u001b[?25hBuilding wheels for collected packages: pyspark\n",
            "  Building wheel for pyspark (setup.py) ... \u001b[?25l\u001b[?25hdone\n",
            "  Created wheel for pyspark: filename=pyspark-3.2.1-py2.py3-none-any.whl size=281853642 sha256=543fa4ee86c0a839f0cc9bc139d7e1ea4cdae2104e4ca17ad76a75eb34d67fc0\n",
            "  Stored in directory: /root/.cache/pip/wheels/9f/f5/07/7cd8017084dce4e93e84e92efd1e1d5334db05f2e83bcef74f\n",
            "Successfully built pyspark\n",
            "Installing collected packages: py4j, pyspark\n",
            "Successfully installed py4j-0.10.9.3 pyspark-3.2.1\n"
          ]
        }
      ],
      "source": [
        "!pip install pyspark\n",
        "\n",
        "import pyspark\n",
        "from pyspark.sql import SparkSession\n",
        "from pyspark.sql.types import StructType,StructField, StringType, IntegerType \n",
        "from pyspark.sql.types import ArrayType, DoubleType, BooleanType, TimestampType, DateType\n",
        "from pyspark.sql.functions import col,array_contains,substring"
      ]
    },
    {
      "cell_type": "code",
      "source": [
        "!ls"
      ],
      "metadata": {
        "colab": {
          "base_uri": "https://localhost:8080/"
        },
        "id": "5Y-ei9zj-nEL",
        "outputId": "daa01236-dc50-4696-cbbe-1ff398b228ac"
      },
      "execution_count": 4,
      "outputs": [
        {
          "output_type": "stream",
          "name": "stdout",
          "text": [
            "Part1_Crime_data.csv  sample_data\n"
          ]
        }
      ]
    },
    {
      "cell_type": "code",
      "source": [
        "spark = SparkSession.builder.appName('Balt_Crime').getOrCreate()"
      ],
      "metadata": {
        "id": "qmixyabAAOOi"
      },
      "execution_count": 5,
      "outputs": []
    },
    {
      "cell_type": "markdown",
      "source": [
        "a) Specify the schema for the crime data set"
      ],
      "metadata": {
        "id": "2NNYGtG5BVo6"
      }
    },
    {
      "cell_type": "code",
      "source": [
        "df2 = spark.read.option(\"header\",True) \\\n",
        "     .csv(\"Part1_Crime_data.csv\")\n",
        "print(\"This specifies the schema of the Baltimore Crime Data\")\n",
        "df2.printSchema()"
      ],
      "metadata": {
        "colab": {
          "base_uri": "https://localhost:8080/"
        },
        "id": "RQf6uM9mARpT",
        "outputId": "c5258503-b451-4c79-e2f3-9a78d3c47b6c"
      },
      "execution_count": 6,
      "outputs": [
        {
          "output_type": "stream",
          "name": "stdout",
          "text": [
            "This specifies the schema of the Baltimore Crime Data\n",
            "root\n",
            " |-- X: string (nullable = true)\n",
            " |-- Y: string (nullable = true)\n",
            " |-- RowID: string (nullable = true)\n",
            " |-- CrimeDateTime: string (nullable = true)\n",
            " |-- CrimeCode: string (nullable = true)\n",
            " |-- Location: string (nullable = true)\n",
            " |-- Description: string (nullable = true)\n",
            " |-- Inside_Outside: string (nullable = true)\n",
            " |-- Weapon: string (nullable = true)\n",
            " |-- Post: string (nullable = true)\n",
            " |-- District: string (nullable = true)\n",
            " |-- Neighborhood: string (nullable = true)\n",
            " |-- Latitude: string (nullable = true)\n",
            " |-- Longitude: string (nullable = true)\n",
            " |-- GeoLocation: string (nullable = true)\n",
            " |-- Premise: string (nullable = true)\n",
            " |-- VRIName: string (nullable = true)\n",
            " |-- Total_Incidents: string (nullable = true)\n",
            " |-- Shape: string (nullable = true)\n",
            "\n"
          ]
        }
      ]
    },
    {
      "cell_type": "markdown",
      "source": [
        "b) Read the file using schema definition"
      ],
      "metadata": {
        "id": "DgIDsDGNBpR3"
      }
    },
    {
      "cell_type": "code",
      "source": [
        "df2.show(5)"
      ],
      "metadata": {
        "colab": {
          "base_uri": "https://localhost:8080/"
        },
        "id": "g-5UA1FpAbh9",
        "outputId": "9e29e022-fc07-43e7-aefe-3272179171e7"
      },
      "execution_count": 7,
      "outputs": [
        {
          "output_type": "stream",
          "name": "stdout",
          "text": [
            "+----------------+----------------+-----+--------------------+---------+------------------+--------------------+--------------+-------+----+---------+--------------+--------+---------+------------------+-------+-------+---------------+-----+\n",
            "|               X|               Y|RowID|       CrimeDateTime|CrimeCode|          Location|         Description|Inside_Outside| Weapon|Post| District|  Neighborhood|Latitude|Longitude|       GeoLocation|Premise|VRIName|Total_Incidents|Shape|\n",
            "+----------------+----------------+-----+--------------------+---------+------------------+--------------------+--------------+-------+----+---------+--------------+--------+---------+------------------+-------+-------+---------------+-----+\n",
            "|1428019.10487147|589532.731060804|    1|2022/03/05 03:43:...|      3NF|     1800 FLEET ST|    ROBBERY - STREET|          null|FIREARM| 213|SOUTHEAST|   FELLS POINT| 39.2847| -76.5913|(39.2847,-76.5913)|   null|   null|              1| null|\n",
            "|1428019.10487147|589532.731060804|    2|2022/03/05 03:43:...|      3NF|     1800 FLEET ST|    ROBBERY - STREET|          null|FIREARM| 213|SOUTHEAST|   FELLS POINT| 39.2847| -76.5913|(39.2847,-76.5913)|   null|   null|              1| null|\n",
            "|1428019.10487147|589532.731060804|    3|2022/03/05 03:43:...|      3NF|     1800 FLEET ST|    ROBBERY - STREET|          null|FIREARM| 213|SOUTHEAST|   FELLS POINT| 39.2847| -76.5913|(39.2847,-76.5913)|   null|   null|              1| null|\n",
            "|1423024.46477252| 572683.29122287|    4|2022/03/05 04:30:...|      3CF|100 E PATAPSCO AVE|ROBBERY - COMMERCIAL|          null|FIREARM| 913| SOUTHERN|      BROOKLYN| 39.2385| -76.6092|(39.2385,-76.6092)|   null|   null|              1| null|\n",
            "|1400632.37017858|593904.722108476|    5|2022/03/05 01:30:...|      3AF|     RD & KEVIN RD|    ROBBERY - STREET|          null|FIREARM| 822|SOUTHWEST|ROGNEL HEIGHTS|  39.297|  -76.688|  (39.297,-76.688)|   null|   null|              1| null|\n",
            "+----------------+----------------+-----+--------------------+---------+------------------+--------------------+--------------+-------+----+---------+--------------+--------+---------+------------------+-------+-------+---------------+-----+\n",
            "only showing top 5 rows\n",
            "\n"
          ]
        }
      ]
    },
    {
      "cell_type": "code",
      "source": [
        "schema = StructType() \\\n",
        "      .add(\"X\", DoubleType(),True) \\\n",
        "      .add(\"Y\", DoubleType(),True) \\\n",
        "      .add(\"RowID\",IntegerType(),True) \\\n",
        "      .add(\"CrimeDateTime\",StringType(),True) \\\n",
        "      .add(\"CrimeCode\",StringType(),True) \\\n",
        "      .add(\"Location\",StringType(),True) \\\n",
        "      .add(\"Description\",StringType(),True) \\\n",
        "      .add(\"Inside_Outside\",StringType(),True) \\\n",
        "      .add(\"Weapon\",StringType(),True) \\\n",
        "      .add(\"Post\",IntegerType(),True) \\\n",
        "      .add(\"District\",StringType(),True) \\\n",
        "      .add(\"Neighborhood\",StringType(),True) \\\n",
        "      .add(\"Latitude\",DoubleType(),True) \\\n",
        "      .add(\"Longtitude\",DoubleType(),True) \\\n",
        "      .add(\"GeoLocation\",StringType(),True) \\\n",
        "      .add(\"Premise\",StringType(),True) \\\n",
        "      .add(\"VRIName\",StringType(),True) \\\n",
        "      .add(\"Total_Incidents\",IntegerType(),True) \\\n",
        "      .add(\"Shape\",StringType(),True)"
      ],
      "metadata": {
        "id": "-2q2wJxlAiSG"
      },
      "execution_count": 8,
      "outputs": []
    },
    {
      "cell_type": "markdown",
      "source": [
        "c) Cache the DataFrame"
      ],
      "metadata": {
        "id": "QoKVHUP6BzqJ"
      }
    },
    {
      "cell_type": "code",
      "source": [
        "df2.persist()"
      ],
      "metadata": {
        "colab": {
          "base_uri": "https://localhost:8080/"
        },
        "id": "8VuTe-icAncy",
        "outputId": "c9a3cb48-3f85-4b24-ea78-86bae33cc8f1"
      },
      "execution_count": 9,
      "outputs": [
        {
          "output_type": "execute_result",
          "data": {
            "text/plain": [
              "DataFrame[X: string, Y: string, RowID: string, CrimeDateTime: string, CrimeCode: string, Location: string, Description: string, Inside_Outside: string, Weapon: string, Post: string, District: string, Neighborhood: string, Latitude: string, Longitude: string, GeoLocation: string, Premise: string, VRIName: string, Total_Incidents: string, Shape: string]"
            ]
          },
          "metadata": {},
          "execution_count": 9
        }
      ]
    },
    {
      "cell_type": "markdown",
      "source": [
        "d) Show the count of rows"
      ],
      "metadata": {
        "id": "xRi-qx-GB54G"
      }
    },
    {
      "cell_type": "code",
      "source": [
        "print(\"This counts the number of rows\")\n",
        "df2.count()"
      ],
      "metadata": {
        "colab": {
          "base_uri": "https://localhost:8080/"
        },
        "id": "HI2Gk7exArT1",
        "outputId": "0008e1b3-e455-4f63-90e9-00243374bb6c"
      },
      "execution_count": 10,
      "outputs": [
        {
          "output_type": "stream",
          "name": "stdout",
          "text": [
            "This counts the number of rows\n"
          ]
        },
        {
          "output_type": "execute_result",
          "data": {
            "text/plain": [
              "291382"
            ]
          },
          "metadata": {},
          "execution_count": 10
        }
      ]
    },
    {
      "cell_type": "markdown",
      "source": [
        "e) Print the schema"
      ],
      "metadata": {
        "id": "TgVo7aEhCBEp"
      }
    },
    {
      "cell_type": "code",
      "source": [
        "df2_with_schema = spark.read.format(\"csv\") \\\n",
        "      .option(\"header\", True) \\\n",
        "      .schema(schema) \\\n",
        "      .load(\"/content/Part1_Crime_data.csv\")\n",
        "print(\"This shows the new schema applied.\")\n",
        "df2_with_schema.printSchema"
      ],
      "metadata": {
        "colab": {
          "base_uri": "https://localhost:8080/"
        },
        "id": "cEcQ9RxNAwwh",
        "outputId": "ae462783-46bd-4b67-b074-16ed6293abb1"
      },
      "execution_count": 21,
      "outputs": [
        {
          "output_type": "stream",
          "name": "stdout",
          "text": [
            "This shows the new schema applied.\n"
          ]
        },
        {
          "output_type": "execute_result",
          "data": {
            "text/plain": [
              "<bound method DataFrame.printSchema of DataFrame[X: double, Y: double, RowID: int, CrimeDateTime: string, CrimeCode: string, Location: string, Description: string, Inside_Outside: string, Weapon: string, Post: int, District: string, Neighborhood: string, Latitude: double, Longtitude: double, GeoLocation: string, Premise: string, VRIName: string, Total_Incidents: int, Shape: string]>"
            ]
          },
          "metadata": {},
          "execution_count": 21
        }
      ]
    },
    {
      "cell_type": "markdown",
      "source": [
        "e) Display the first 5 rows"
      ],
      "metadata": {
        "id": "dOdFObF0CGvU"
      }
    },
    {
      "cell_type": "code",
      "source": [
        "print(\"This shows the first five lines of the dataframe\")\n",
        "df2_with_schema.show(5)"
      ],
      "metadata": {
        "colab": {
          "base_uri": "https://localhost:8080/"
        },
        "id": "xfA6gx_PBBW-",
        "outputId": "8b44d5bf-6a75-42ed-a65f-7f028fd70056"
      },
      "execution_count": 14,
      "outputs": [
        {
          "output_type": "stream",
          "name": "stdout",
          "text": [
            "This shows the first five lines of the dataframe\n",
            "+----------------+----------------+-----+--------------------+---------+------------------+--------------------+--------------+-------+----+---------+--------------+--------+----------+------------------+-------+-------+---------------+-----+\n",
            "|               X|               Y|RowID|       CrimeDateTime|CrimeCode|          Location|         Description|Inside_Outside| Weapon|Post| District|  Neighborhood|Latitude|Longtitude|       GeoLocation|Premise|VRIName|Total_Incidents|Shape|\n",
            "+----------------+----------------+-----+--------------------+---------+------------------+--------------------+--------------+-------+----+---------+--------------+--------+----------+------------------+-------+-------+---------------+-----+\n",
            "|1428019.10487147|589532.731060804|    1|2022/03/05 03:43:...|      3NF|     1800 FLEET ST|    ROBBERY - STREET|          null|FIREARM| 213|SOUTHEAST|   FELLS POINT| 39.2847|  -76.5913|(39.2847,-76.5913)|   null|   null|              1| null|\n",
            "|1428019.10487147|589532.731060804|    2|2022/03/05 03:43:...|      3NF|     1800 FLEET ST|    ROBBERY - STREET|          null|FIREARM| 213|SOUTHEAST|   FELLS POINT| 39.2847|  -76.5913|(39.2847,-76.5913)|   null|   null|              1| null|\n",
            "|1428019.10487147|589532.731060804|    3|2022/03/05 03:43:...|      3NF|     1800 FLEET ST|    ROBBERY - STREET|          null|FIREARM| 213|SOUTHEAST|   FELLS POINT| 39.2847|  -76.5913|(39.2847,-76.5913)|   null|   null|              1| null|\n",
            "|1423024.46477252| 572683.29122287|    4|2022/03/05 04:30:...|      3CF|100 E PATAPSCO AVE|ROBBERY - COMMERCIAL|          null|FIREARM| 913| SOUTHERN|      BROOKLYN| 39.2385|  -76.6092|(39.2385,-76.6092)|   null|   null|              1| null|\n",
            "|1400632.37017858|593904.722108476|    5|2022/03/05 01:30:...|      3AF|     RD & KEVIN RD|    ROBBERY - STREET|          null|FIREARM| 822|SOUTHWEST|ROGNEL HEIGHTS|  39.297|   -76.688|  (39.297,-76.688)|   null|   null|              1| null|\n",
            "+----------------+----------------+-----+--------------------+---------+------------------+--------------------+--------------+-------+----+---------+--------------+--------+----------+------------------+-------+-------+---------------+-----+\n",
            "only showing top 5 rows\n",
            "\n"
          ]
        }
      ]
    },
    {
      "cell_type": "markdown",
      "source": [
        "Answer following questions using PySpark"
      ],
      "metadata": {
        "id": "Sxd5wdm4CLNn"
      }
    },
    {
      "cell_type": "markdown",
      "source": [
        "1. What are distinct crime codes?"
      ],
      "metadata": {
        "id": "1D-6_FW0CPol"
      }
    },
    {
      "cell_type": "code",
      "source": [
        "(df2_with_schema\n",
        ".select(\"CrimeCode\")\n",
        ".where(col(\"CrimeCode\").isNotNull())\n",
        ".distinct()\n",
        ".show(90, False))"
      ],
      "metadata": {
        "colab": {
          "base_uri": "https://localhost:8080/"
        },
        "id": "7s_7hrgxCuwq",
        "outputId": "d3274103-bc7e-44af-9082-6b53e776a5c0"
      },
      "execution_count": 15,
      "outputs": [
        {
          "output_type": "stream",
          "name": "stdout",
          "text": [
            "+---------+\n",
            "|CrimeCode|\n",
            "+---------+\n",
            "|3P       |\n",
            "|3K       |\n",
            "|3BJ      |\n",
            "|1A       |\n",
            "|3M       |\n",
            "|5F       |\n",
            "|4B       |\n",
            "|3B       |\n",
            "|3NF      |\n",
            "|7A       |\n",
            "|3EF      |\n",
            "|3N       |\n",
            "|5D       |\n",
            "|6K       |\n",
            "|3LO      |\n",
            "|3AF      |\n",
            "|7B       |\n",
            "|3GO      |\n",
            "|3AJF     |\n",
            "|8GV      |\n",
            "|8AO      |\n",
            "|7C       |\n",
            "|3AK      |\n",
            "|3GK      |\n",
            "|6L       |\n",
            "|3EO      |\n",
            "|3JO      |\n",
            "|3F       |\n",
            "|1K       |\n",
            "|8H       |\n",
            "|8CV      |\n",
            "|8DO      |\n",
            "|4C       |\n",
            "|5A       |\n",
            "|6C       |\n",
            "|3NK      |\n",
            "|3D       |\n",
            "|6H       |\n",
            "|3LK      |\n",
            "|3AJK     |\n",
            "|3CO      |\n",
            "|3L       |\n",
            "|4E       |\n",
            "|8BV      |\n",
            "|6D       |\n",
            "|2A       |\n",
            "|3C       |\n",
            "|8I       |\n",
            "|3NO      |\n",
            "|3JF      |\n",
            "|3LF      |\n",
            "|3E       |\n",
            "|1O       |\n",
            "|8J       |\n",
            "|3CK      |\n",
            "|8BO      |\n",
            "|2B       |\n",
            "|3JK      |\n",
            "|5B       |\n",
            "|4A       |\n",
            "|8GO      |\n",
            "|8EV      |\n",
            "|3CF      |\n",
            "|8EO      |\n",
            "|6G       |\n",
            "|6A       |\n",
            "|9S       |\n",
            "|3EK      |\n",
            "|8FV      |\n",
            "|3GF      |\n",
            "|8CO      |\n",
            "|3H       |\n",
            "|4D       |\n",
            "|8FO      |\n",
            "|6J       |\n",
            "|6F       |\n",
            "|6E       |\n",
            "|3J       |\n",
            "|5C       |\n",
            "|5G       |\n",
            "|8AV      |\n",
            "|5E       |\n",
            "|3AJO     |\n",
            "|3AO      |\n",
            "|6B       |\n",
            "+---------+\n",
            "\n"
          ]
        }
      ]
    },
    {
      "cell_type": "markdown",
      "source": [
        "2. Count the number of crimes by the crime codes and order by the resulting counts in descending order"
      ],
      "metadata": {
        "id": "w_ECG--KCdK1"
      }
    },
    {
      "cell_type": "code",
      "source": [
        "(df2_with_schema \n",
        ".select(\"CrimeCode\")\n",
        ".where(col(\"CrimeCode\").isNotNull())\n",
        ".groupBy(\"CrimeCode\")\n",
        ".count()\n",
        ".orderBy(\"count\", ascending=False)\n",
        ".show(n=90, truncate=False))"
      ],
      "metadata": {
        "colab": {
          "base_uri": "https://localhost:8080/"
        },
        "id": "fMF0O7kOCzwi",
        "outputId": "5b4c4161-15f9-44bc-f624-96e3091037cf"
      },
      "execution_count": 16,
      "outputs": [
        {
          "output_type": "stream",
          "name": "stdout",
          "text": [
            "+---------+-----+\n",
            "|CrimeCode|count|\n",
            "+---------+-----+\n",
            "|4E       |91822|\n",
            "|6D       |68508|\n",
            "|5A       |43956|\n",
            "|7A       |40308|\n",
            "|6J       |27670|\n",
            "|6G       |26898|\n",
            "|6E       |24310|\n",
            "|6C       |23269|\n",
            "|4C       |22455|\n",
            "|5D       |14971|\n",
            "|3AF      |14760|\n",
            "|4B       |14501|\n",
            "|4A       |13240|\n",
            "|3B       |10735|\n",
            "|4D       |7222 |\n",
            "|5B       |6481 |\n",
            "|9S       |5452 |\n",
            "|6F       |5058 |\n",
            "|5C       |4917 |\n",
            "|6B       |4106 |\n",
            "|3CF      |3776 |\n",
            "|2A       |3172 |\n",
            "|3AJF     |3020 |\n",
            "|3AK      |2982 |\n",
            "|3K       |2833 |\n",
            "|7C       |2726 |\n",
            "|1A       |2631 |\n",
            "|3AO      |2486 |\n",
            "|5F       |2192 |\n",
            "|3JF      |1819 |\n",
            "|3D       |1432 |\n",
            "|5E       |1419 |\n",
            "|6L       |1206 |\n",
            "|8H       |1053 |\n",
            "|3P       |873  |\n",
            "|3GF      |800  |\n",
            "|6A       |782  |\n",
            "|3BJ      |754  |\n",
            "|3CK      |591  |\n",
            "|3CO      |516  |\n",
            "|3NF      |445  |\n",
            "|3JK      |423  |\n",
            "|8AO      |413  |\n",
            "|3JO      |413  |\n",
            "|2B       |355  |\n",
            "|7B       |291  |\n",
            "|8J       |279  |\n",
            "|3H       |261  |\n",
            "|1K       |230  |\n",
            "|3AJO     |225  |\n",
            "|6H       |222  |\n",
            "|3J       |216  |\n",
            "|1O       |192  |\n",
            "|3N       |181  |\n",
            "|3EF      |177  |\n",
            "|3AJK     |172  |\n",
            "|8FO      |154  |\n",
            "|3GO      |133  |\n",
            "|3M       |121  |\n",
            "|8AV      |121  |\n",
            "|3F       |120  |\n",
            "|3NK      |120  |\n",
            "|3GK      |117  |\n",
            "|8BO      |104  |\n",
            "|3LF      |97   |\n",
            "|3NO      |83   |\n",
            "|8EO      |78   |\n",
            "|8I       |47   |\n",
            "|3EO      |47   |\n",
            "|3EK      |40   |\n",
            "|3LO      |35   |\n",
            "|8BV      |26   |\n",
            "|8GO      |24   |\n",
            "|5G       |21   |\n",
            "|8CO      |13   |\n",
            "|8EV      |10   |\n",
            "|8FV      |9    |\n",
            "|8GV      |7    |\n",
            "|8CV      |7    |\n",
            "|6K       |7    |\n",
            "|3LK      |5    |\n",
            "|3E       |5    |\n",
            "|3C       |4    |\n",
            "|8DO      |3    |\n",
            "|3L       |1    |\n",
            "+---------+-----+\n",
            "\n"
          ]
        }
      ]
    },
    {
      "cell_type": "markdown",
      "source": [
        "3. Which neighborhood had most crimes?"
      ],
      "metadata": {
        "id": "DMazt856Cg-u"
      }
    },
    {
      "cell_type": "code",
      "source": [
        "(df2_with_schema\n",
        ".select(\"Neighborhood\")\n",
        ".where(col(\"Neighborhood\").isNotNull())\n",
        ".groupBy(\"Neighborhood\")\n",
        ".count()\n",
        ".orderBy(\"count\", ascending=False)\n",
        ".show(n=1, truncate=False))"
      ],
      "metadata": {
        "colab": {
          "base_uri": "https://localhost:8080/"
        },
        "id": "ZqMu3qd8C52G",
        "outputId": "e95bca5f-ef11-4e39-cb0c-eed6ae92c06d"
      },
      "execution_count": 17,
      "outputs": [
        {
          "output_type": "stream",
          "name": "stdout",
          "text": [
            "+------------+-----+\n",
            "|Neighborhood|count|\n",
            "+------------+-----+\n",
            "|DOWNTOWN    |17818|\n",
            "+------------+-----+\n",
            "only showing top 1 row\n",
            "\n"
          ]
        }
      ]
    },
    {
      "cell_type": "markdown",
      "source": [
        "4. Which month of the year had most crimes?"
      ],
      "metadata": {
        "id": "VtS01OVfClKU"
      }
    },
    {
      "cell_type": "code",
      "source": [
        "df_month = df2_with_schema.select('CrimeDateTime', substring('CrimeDateTime', 6,2).alias('month'))\n",
        "(df_month\n",
        " .select('month')\n",
        " .where(col(\"month\").isNotNull())\n",
        " .groupBy(\"month\")\n",
        " .count()\n",
        " .orderBy(\"count\", ascending=False)\n",
        " .show(n=1, truncate=False))"
      ],
      "metadata": {
        "colab": {
          "base_uri": "https://localhost:8080/"
        },
        "id": "gx8H_yGGC-4x",
        "outputId": "07b2bc60-4aca-447c-fced-4df20e5eee17"
      },
      "execution_count": 18,
      "outputs": [
        {
          "output_type": "stream",
          "name": "stdout",
          "text": [
            "+-----+-----+\n",
            "|month|count|\n",
            "+-----+-----+\n",
            "|08   |46322|\n",
            "+-----+-----+\n",
            "only showing top 1 row\n",
            "\n"
          ]
        }
      ]
    },
    {
      "cell_type": "markdown",
      "source": [
        "5. What weapons were used? "
      ],
      "metadata": {
        "id": "yYvWE4P3CnxS"
      }
    },
    {
      "cell_type": "code",
      "source": [
        "(df2_with_schema\n",
        ".select(\"Weapon\")\n",
        ".where(col(\"Weapon\") != \"NA\")  #.isNotNull())\n",
        ".distinct()\n",
        ".show(n=10, truncate=False))"
      ],
      "metadata": {
        "colab": {
          "base_uri": "https://localhost:8080/"
        },
        "id": "wAEAwfjeDDDU",
        "outputId": "6ec44adc-381c-4857-e67b-4c3652ea0e8f"
      },
      "execution_count": 19,
      "outputs": [
        {
          "output_type": "stream",
          "name": "stdout",
          "text": [
            "+-------+\n",
            "|Weapon |\n",
            "+-------+\n",
            "|HANDS  |\n",
            "|KNIFE  |\n",
            "|OTHER  |\n",
            "|FIRE   |\n",
            "|FIREARM|\n",
            "+-------+\n",
            "\n"
          ]
        }
      ]
    },
    {
      "cell_type": "markdown",
      "source": [
        "6. Which weapon was used the most? "
      ],
      "metadata": {
        "id": "NFvgCR40Crjl"
      }
    },
    {
      "cell_type": "code",
      "source": [
        "(df2_with_schema\n",
        ".select(\"Weapon\")\n",
        ".where(col(\"Weapon\") != \"NA\")\n",
        ".groupBy(\"Weapon\")\n",
        ".count()\n",
        ".orderBy(\"count\", ascending=False)\n",
        ".show(n=1, truncate=False))"
      ],
      "metadata": {
        "colab": {
          "base_uri": "https://localhost:8080/"
        },
        "id": "zRQYpNizDG6i",
        "outputId": "8b73d255-7ac9-4f74-a1c0-211cceb88689"
      },
      "execution_count": 20,
      "outputs": [
        {
          "output_type": "stream",
          "name": "stdout",
          "text": [
            "+-------+-----+\n",
            "|Weapon |count|\n",
            "+-------+-----+\n",
            "|FIREARM|46217|\n",
            "+-------+-----+\n",
            "only showing top 1 row\n",
            "\n"
          ]
        }
      ]
    }
  ]
}