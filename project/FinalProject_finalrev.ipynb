{
  "nbformat": 4,
  "nbformat_minor": 0,
  "metadata": {
    "colab": {
      "name": "FinalProject.ipynb",
      "provenance": [],
      "collapsed_sections": []
    },
    "kernelspec": {
      "name": "python3",
      "display_name": "Python 3"
    },
    "language_info": {
      "name": "python"
    }
  },
  "cells": [
    {
      "cell_type": "code",
      "execution_count": 141,
      "metadata": {
        "colab": {
          "base_uri": "https://localhost:8080/"
        },
        "id": "Rpog0pwUATGg",
        "outputId": "dece7463-957e-4012-c9f5-703755fb9ae2"
      },
      "outputs": [
        {
          "output_type": "stream",
          "name": "stdout",
          "text": [
            "Requirement already satisfied: pyspark in /usr/local/lib/python3.7/dist-packages (3.2.1)\n",
            "Requirement already satisfied: py4j==0.10.9.3 in /usr/local/lib/python3.7/dist-packages (from pyspark) (0.10.9.3)\n",
            "root\n",
            " |-- Make: string (nullable = true)\n",
            " |-- Model: string (nullable = true)\n",
            " |-- Year: integer (nullable = true)\n",
            " |-- Engine Fuel Type: string (nullable = true)\n",
            " |-- Engine HP: integer (nullable = true)\n",
            " |-- Engine Cylinders: integer (nullable = true)\n",
            " |-- Transmission Type: string (nullable = true)\n",
            " |-- Driven_Wheels: string (nullable = true)\n",
            " |-- Number of Doors: integer (nullable = true)\n",
            " |-- Market Category: string (nullable = true)\n",
            " |-- Vehicle Size: string (nullable = true)\n",
            " |-- Vehicle Style: string (nullable = true)\n",
            " |-- highway MPG: integer (nullable = true)\n",
            " |-- city mpg: integer (nullable = true)\n",
            " |-- Popularity: integer (nullable = true)\n",
            " |-- MSRP: integer (nullable = true)\n",
            "\n"
          ]
        }
      ],
      "source": [
        "!pip install pyspark\n",
        "import numpy as np \n",
        "import pandas as pd\n",
        "import matplotlib.pyplot as plt\n",
        "import seaborn as sns\n",
        "import warnings\n",
        "warnings.filterwarnings('ignore')\n",
        "\n",
        "from pyspark.sql import SparkSession\n",
        "spark = SparkSession.builder.appName('CarSales').getOrCreate()\n",
        "sales_df = spark.read.csv(\"/content/data.csv\", header=True, inferSchema=True)\n",
        "sales_df.printSchema()"
      ]
    },
    {
      "cell_type": "code",
      "source": [
        "sales_df.show(10)"
      ],
      "metadata": {
        "colab": {
          "base_uri": "https://localhost:8080/"
        },
        "id": "i2zwOCDGYeHJ",
        "outputId": "19620b22-9379-4a8b-a337-5a084a0c945c"
      },
      "execution_count": 142,
      "outputs": [
        {
          "output_type": "stream",
          "name": "stdout",
          "text": [
            "+----+----------+----+--------------------+---------+----------------+-----------------+----------------+---------------+--------------------+------------+-------------+-----------+--------+----------+-----+\n",
            "|Make|     Model|Year|    Engine Fuel Type|Engine HP|Engine Cylinders|Transmission Type|   Driven_Wheels|Number of Doors|     Market Category|Vehicle Size|Vehicle Style|highway MPG|city mpg|Popularity| MSRP|\n",
            "+----+----------+----+--------------------+---------+----------------+-----------------+----------------+---------------+--------------------+------------+-------------+-----------+--------+----------+-----+\n",
            "| BMW|1 Series M|2011|premium unleaded ...|      335|               6|           MANUAL|rear wheel drive|              2|Factory Tuner,Lux...|     Compact|        Coupe|         26|      19|      3916|46135|\n",
            "| BMW|  1 Series|2011|premium unleaded ...|      300|               6|           MANUAL|rear wheel drive|              2|  Luxury,Performance|     Compact|  Convertible|         28|      19|      3916|40650|\n",
            "| BMW|  1 Series|2011|premium unleaded ...|      300|               6|           MANUAL|rear wheel drive|              2|Luxury,High-Perfo...|     Compact|        Coupe|         28|      20|      3916|36350|\n",
            "| BMW|  1 Series|2011|premium unleaded ...|      230|               6|           MANUAL|rear wheel drive|              2|  Luxury,Performance|     Compact|        Coupe|         28|      18|      3916|29450|\n",
            "| BMW|  1 Series|2011|premium unleaded ...|      230|               6|           MANUAL|rear wheel drive|              2|              Luxury|     Compact|  Convertible|         28|      18|      3916|34500|\n",
            "| BMW|  1 Series|2012|premium unleaded ...|      230|               6|           MANUAL|rear wheel drive|              2|  Luxury,Performance|     Compact|        Coupe|         28|      18|      3916|31200|\n",
            "| BMW|  1 Series|2012|premium unleaded ...|      300|               6|           MANUAL|rear wheel drive|              2|  Luxury,Performance|     Compact|  Convertible|         26|      17|      3916|44100|\n",
            "| BMW|  1 Series|2012|premium unleaded ...|      300|               6|           MANUAL|rear wheel drive|              2|Luxury,High-Perfo...|     Compact|        Coupe|         28|      20|      3916|39300|\n",
            "| BMW|  1 Series|2012|premium unleaded ...|      230|               6|           MANUAL|rear wheel drive|              2|              Luxury|     Compact|  Convertible|         28|      18|      3916|36900|\n",
            "| BMW|  1 Series|2013|premium unleaded ...|      230|               6|           MANUAL|rear wheel drive|              2|              Luxury|     Compact|  Convertible|         27|      18|      3916|37200|\n",
            "+----+----------+----+--------------------+---------+----------------+-----------------+----------------+---------------+--------------------+------------+-------------+-----------+--------+----------+-----+\n",
            "only showing top 10 rows\n",
            "\n"
          ]
        }
      ]
    },
    {
      "cell_type": "code",
      "source": [
        "sales_df.na.drop(how=\"any\").show(truncate=False)"
      ],
      "metadata": {
        "colab": {
          "base_uri": "https://localhost:8080/"
        },
        "id": "9u6zyY6isP5V",
        "outputId": "e5261fef-7333-47b2-e830-dbf984dd68e3"
      },
      "execution_count": 143,
      "outputs": [
        {
          "output_type": "stream",
          "name": "stdout",
          "text": [
            "+----+----------+----+---------------------------+---------+----------------+-----------------+-----------------+---------------+-------------------------------------+------------+-------------+-----------+--------+----------+-----+\n",
            "|Make|Model     |Year|Engine Fuel Type           |Engine HP|Engine Cylinders|Transmission Type|Driven_Wheels    |Number of Doors|Market Category                      |Vehicle Size|Vehicle Style|highway MPG|city mpg|Popularity|MSRP |\n",
            "+----+----------+----+---------------------------+---------+----------------+-----------------+-----------------+---------------+-------------------------------------+------------+-------------+-----------+--------+----------+-----+\n",
            "|BMW |1 Series M|2011|premium unleaded (required)|335      |6               |MANUAL           |rear wheel drive |2              |Factory Tuner,Luxury,High-Performance|Compact     |Coupe        |26         |19      |3916      |46135|\n",
            "|BMW |1 Series  |2011|premium unleaded (required)|300      |6               |MANUAL           |rear wheel drive |2              |Luxury,Performance                   |Compact     |Convertible  |28         |19      |3916      |40650|\n",
            "|BMW |1 Series  |2011|premium unleaded (required)|300      |6               |MANUAL           |rear wheel drive |2              |Luxury,High-Performance              |Compact     |Coupe        |28         |20      |3916      |36350|\n",
            "|BMW |1 Series  |2011|premium unleaded (required)|230      |6               |MANUAL           |rear wheel drive |2              |Luxury,Performance                   |Compact     |Coupe        |28         |18      |3916      |29450|\n",
            "|BMW |1 Series  |2011|premium unleaded (required)|230      |6               |MANUAL           |rear wheel drive |2              |Luxury                               |Compact     |Convertible  |28         |18      |3916      |34500|\n",
            "|BMW |1 Series  |2012|premium unleaded (required)|230      |6               |MANUAL           |rear wheel drive |2              |Luxury,Performance                   |Compact     |Coupe        |28         |18      |3916      |31200|\n",
            "|BMW |1 Series  |2012|premium unleaded (required)|300      |6               |MANUAL           |rear wheel drive |2              |Luxury,Performance                   |Compact     |Convertible  |26         |17      |3916      |44100|\n",
            "|BMW |1 Series  |2012|premium unleaded (required)|300      |6               |MANUAL           |rear wheel drive |2              |Luxury,High-Performance              |Compact     |Coupe        |28         |20      |3916      |39300|\n",
            "|BMW |1 Series  |2012|premium unleaded (required)|230      |6               |MANUAL           |rear wheel drive |2              |Luxury                               |Compact     |Convertible  |28         |18      |3916      |36900|\n",
            "|BMW |1 Series  |2013|premium unleaded (required)|230      |6               |MANUAL           |rear wheel drive |2              |Luxury                               |Compact     |Convertible  |27         |18      |3916      |37200|\n",
            "|BMW |1 Series  |2013|premium unleaded (required)|300      |6               |MANUAL           |rear wheel drive |2              |Luxury,High-Performance              |Compact     |Coupe        |28         |20      |3916      |39600|\n",
            "|BMW |1 Series  |2013|premium unleaded (required)|230      |6               |MANUAL           |rear wheel drive |2              |Luxury,Performance                   |Compact     |Coupe        |28         |19      |3916      |31500|\n",
            "|BMW |1 Series  |2013|premium unleaded (required)|300      |6               |MANUAL           |rear wheel drive |2              |Luxury,Performance                   |Compact     |Convertible  |28         |19      |3916      |44400|\n",
            "|BMW |1 Series  |2013|premium unleaded (required)|230      |6               |MANUAL           |rear wheel drive |2              |Luxury                               |Compact     |Convertible  |28         |19      |3916      |37200|\n",
            "|BMW |1 Series  |2013|premium unleaded (required)|230      |6               |MANUAL           |rear wheel drive |2              |Luxury,Performance                   |Compact     |Coupe        |28         |19      |3916      |31500|\n",
            "|BMW |1 Series  |2013|premium unleaded (required)|320      |6               |MANUAL           |rear wheel drive |2              |Luxury,High-Performance              |Compact     |Convertible  |25         |18      |3916      |48250|\n",
            "|BMW |1 Series  |2013|premium unleaded (required)|320      |6               |MANUAL           |rear wheel drive |2              |Luxury,High-Performance              |Compact     |Coupe        |28         |20      |3916      |43550|\n",
            "|Audi|100       |1992|regular unleaded           |172      |6               |MANUAL           |front wheel drive|4              |Luxury                               |Midsize     |Sedan        |24         |17      |3105      |2000 |\n",
            "|Audi|100       |1992|regular unleaded           |172      |6               |MANUAL           |front wheel drive|4              |Luxury                               |Midsize     |Sedan        |24         |17      |3105      |2000 |\n",
            "|Audi|100       |1992|regular unleaded           |172      |6               |AUTOMATIC        |all wheel drive  |4              |Luxury                               |Midsize     |Wagon        |20         |16      |3105      |2000 |\n",
            "+----+----------+----+---------------------------+---------+----------------+-----------------+-----------------+---------------+-------------------------------------+------------+-------------+-----------+--------+----------+-----+\n",
            "only showing top 20 rows\n",
            "\n"
          ]
        }
      ]
    },
    {
      "cell_type": "code",
      "source": [
        "sales_df.summary().show()"
      ],
      "metadata": {
        "colab": {
          "base_uri": "https://localhost:8080/"
        },
        "id": "Bb60SZ2iZAqL",
        "outputId": "d6769403-b451-4f0a-a9cc-03ee430125b2"
      },
      "execution_count": 144,
      "outputs": [
        {
          "output_type": "stream",
          "name": "stdout",
          "text": [
            "+-------+-----+------------------+-----------------+----------------+------------------+------------------+-----------------+----------------+------------------+------------------+------------+-------------+------------------+------------------+------------------+-----------------+\n",
            "|summary| Make|             Model|             Year|Engine Fuel Type|         Engine HP|  Engine Cylinders|Transmission Type|   Driven_Wheels|   Number of Doors|   Market Category|Vehicle Size|Vehicle Style|       highway MPG|          city mpg|        Popularity|             MSRP|\n",
            "+-------+-----+------------------+-----------------+----------------+------------------+------------------+-----------------+----------------+------------------+------------------+------------+-------------+------------------+------------------+------------------+-----------------+\n",
            "|  count|11826|             11826|            11826|           11823|             11826|             11803|            11826|           11826|             11825|             11826|       11826|        11826|             11826|             11826|             11826|            11826|\n",
            "|   mean| null| 745.5822222222222|2010.350752579063|            null|249.54058853373922| 5.656273828687622|             null|            null| 3.432642706131078|              null|        null|         null|26.245560629122274|19.232623033992898|1551.2499577202773|40556.55902249281|\n",
            "| stddev| null|1490.8280590623795|7.593794497283969|            null|  109.205971004154|1.7432296450086233|             null|            null|0.8828830055608958|              null|        null|         null| 7.062756392445526| 5.752462872000209|1439.2503678084618|60298.12359757857|\n",
            "|    min|Acura|          1 Series|             1990|          diesel|                55|                 3| AUTOMATED_MANUAL| all wheel drive|                 2|         Crossover|     Compact|2dr Hatchback|                12|                 7|                 2|             2000|\n",
            "|    25%| null|              86.0|             2007|            null|               170|                 4|             null|            null|                 2|              null|        null|         null|                22|                16|               549|            20990|\n",
            "|    50%| null|             500.0|             2015|            null|               227|                 6|             null|            null|                 4|              null|        null|         null|                26|                18|              1385|            29950|\n",
            "|    75%| null|             900.0|             2016|            null|               300|                 6|             null|            null|                 4|              null|        null|         null|                30|                22|              2009|            42150|\n",
            "|    max|Volvo|                xD|             2017|regular unleaded|              1001|                16|          UNKNOWN|rear wheel drive|                 4|Performance,Hybrid|     Midsize|        Wagon|               354|               126|              5657|          2065902|\n",
            "+-------+-----+------------------+-----------------+----------------+------------------+------------------+-----------------+----------------+------------------+------------------+------------+-------------+------------------+------------------+------------------+-----------------+\n",
            "\n"
          ]
        }
      ]
    },
    {
      "cell_type": "code",
      "source": [
        "from pyspark.sql.functions import isnan, when, count, col\n",
        "\n",
        "sales_df.select([count(when(isnan(c) | col(c).isNull(), c)).alias(c) for c in df.columns]).show()\n",
        "sales_df.na.drop(how=\"any\").show(truncate=False)"
      ],
      "metadata": {
        "colab": {
          "base_uri": "https://localhost:8080/"
        },
        "id": "K81xBT4yZOy1",
        "outputId": "7f9d7437-145a-430c-e434-8cb4fcd2d4ce"
      },
      "execution_count": 172,
      "outputs": [
        {
          "output_type": "stream",
          "name": "stdout",
          "text": [
            "+---------+----------------+---------------+-----------+--------+----------+----+\n",
            "|Engine HP|Engine Cylinders|Number of Doors|highway MPG|city mpg|Popularity|MSRP|\n",
            "+---------+----------------+---------------+-----------+--------+----------+----+\n",
            "|       88|             111|             89|         88|      88|        88|  88|\n",
            "+---------+----------------+---------------+-----------+--------+----------+----+\n",
            "\n",
            "+---------+----------------+---------------+-----------+--------+----------+-----+\n",
            "|Engine HP|Engine Cylinders|Number of Doors|highway MPG|city mpg|Popularity|MSRP |\n",
            "+---------+----------------+---------------+-----------+--------+----------+-----+\n",
            "|335      |6               |2              |26         |19      |3916      |46135|\n",
            "|300      |6               |2              |28         |19      |3916      |40650|\n",
            "|300      |6               |2              |28         |20      |3916      |36350|\n",
            "|230      |6               |2              |28         |18      |3916      |29450|\n",
            "|230      |6               |2              |28         |18      |3916      |34500|\n",
            "|230      |6               |2              |28         |18      |3916      |31200|\n",
            "|300      |6               |2              |26         |17      |3916      |44100|\n",
            "|300      |6               |2              |28         |20      |3916      |39300|\n",
            "|230      |6               |2              |28         |18      |3916      |36900|\n",
            "|230      |6               |2              |27         |18      |3916      |37200|\n",
            "|300      |6               |2              |28         |20      |3916      |39600|\n",
            "|230      |6               |2              |28         |19      |3916      |31500|\n",
            "|300      |6               |2              |28         |19      |3916      |44400|\n",
            "|230      |6               |2              |28         |19      |3916      |37200|\n",
            "|230      |6               |2              |28         |19      |3916      |31500|\n",
            "|320      |6               |2              |25         |18      |3916      |48250|\n",
            "|320      |6               |2              |28         |20      |3916      |43550|\n",
            "|172      |6               |4              |24         |17      |3105      |2000 |\n",
            "|172      |6               |4              |24         |17      |3105      |2000 |\n",
            "|172      |6               |4              |20         |16      |3105      |2000 |\n",
            "+---------+----------------+---------------+-----------+--------+----------+-----+\n",
            "only showing top 20 rows\n",
            "\n"
          ]
        }
      ]
    },
    {
      "cell_type": "code",
      "source": [
        "sales_df = sales_df.drop(\"Make\",\"Model\",\"Year\",\"Engine Fuel Type\",\"Transmission Type\",\"Driven_Wheels\",\"Vehicle Size\",\"Vehicle Style\",\"Market Category\")\n",
        "sales_df.show()"
      ],
      "metadata": {
        "colab": {
          "base_uri": "https://localhost:8080/"
        },
        "id": "cqI8KU8aaCZ5",
        "outputId": "4b71c156-8765-44b0-b835-102453dc57c6"
      },
      "execution_count": 146,
      "outputs": [
        {
          "output_type": "stream",
          "name": "stdout",
          "text": [
            "+---------+----------------+---------------+-----------+--------+----------+-----+\n",
            "|Engine HP|Engine Cylinders|Number of Doors|highway MPG|city mpg|Popularity| MSRP|\n",
            "+---------+----------------+---------------+-----------+--------+----------+-----+\n",
            "|      335|               6|              2|         26|      19|      3916|46135|\n",
            "|      300|               6|              2|         28|      19|      3916|40650|\n",
            "|      300|               6|              2|         28|      20|      3916|36350|\n",
            "|      230|               6|              2|         28|      18|      3916|29450|\n",
            "|      230|               6|              2|         28|      18|      3916|34500|\n",
            "|      230|               6|              2|         28|      18|      3916|31200|\n",
            "|      300|               6|              2|         26|      17|      3916|44100|\n",
            "|      300|               6|              2|         28|      20|      3916|39300|\n",
            "|      230|               6|              2|         28|      18|      3916|36900|\n",
            "|      230|               6|              2|         27|      18|      3916|37200|\n",
            "|      300|               6|              2|         28|      20|      3916|39600|\n",
            "|      230|               6|              2|         28|      19|      3916|31500|\n",
            "|      300|               6|              2|         28|      19|      3916|44400|\n",
            "|      230|               6|              2|         28|      19|      3916|37200|\n",
            "|      230|               6|              2|         28|      19|      3916|31500|\n",
            "|      320|               6|              2|         25|      18|      3916|48250|\n",
            "|      320|               6|              2|         28|      20|      3916|43550|\n",
            "|      172|               6|              4|         24|      17|      3105| 2000|\n",
            "|      172|               6|              4|         24|      17|      3105| 2000|\n",
            "|      172|               6|              4|         20|      16|      3105| 2000|\n",
            "+---------+----------------+---------------+-----------+--------+----------+-----+\n",
            "only showing top 20 rows\n",
            "\n"
          ]
        }
      ]
    },
    {
      "cell_type": "code",
      "source": [
        "data_clean = sales_df.select(\"*\")"
      ],
      "metadata": {
        "id": "qFDYSIEKczlx"
      },
      "execution_count": 173,
      "outputs": []
    },
    {
      "cell_type": "markdown",
      "source": [
        "EDA"
      ],
      "metadata": {
        "id": "AyAUqokOgBEE"
      }
    },
    {
      "cell_type": "code",
      "source": [
        "data_clean.groupBy(\"Engine Cylinders\").count().show()"
      ],
      "metadata": {
        "colab": {
          "base_uri": "https://localhost:8080/"
        },
        "id": "_sEfI7qyfVC5",
        "outputId": "ca4d12f4-5e59-4bd5-9381-077d7b0a5ee4"
      },
      "execution_count": 149,
      "outputs": [
        {
          "output_type": "stream",
          "name": "stdout",
          "text": [
            "+----------------+-----+\n",
            "|Engine Cylinders|count|\n",
            "+----------------+-----+\n",
            "|              12|  230|\n",
            "|            null|  111|\n",
            "|               6| 4473|\n",
            "|              16|    3|\n",
            "|               3|   30|\n",
            "|               5|  225|\n",
            "|               4| 4743|\n",
            "|               8| 2031|\n",
            "|              10|   68|\n",
            "+----------------+-----+\n",
            "\n"
          ]
        }
      ]
    },
    {
      "cell_type": "code",
      "source": [
        "data_clean.groupBy(\"Engine HP\").count().show()"
      ],
      "metadata": {
        "colab": {
          "base_uri": "https://localhost:8080/"
        },
        "id": "ltW_Jr6rgDfC",
        "outputId": "4300fee3-01d3-4978-82ee-3e2d147564b5"
      },
      "execution_count": 150,
      "outputs": [
        {
          "output_type": "stream",
          "name": "stdout",
          "text": [
            "+---------+-----+\n",
            "|Engine HP|count|\n",
            "+---------+-----+\n",
            "|      148|   94|\n",
            "|      540|   15|\n",
            "|      580|    5|\n",
            "|      137|   16|\n",
            "|      451|    1|\n",
            "|      251|    6|\n",
            "|      255|   56|\n",
            "|      296|   17|\n",
            "|      133|    4|\n",
            "|      322|   11|\n",
            "|       78|    8|\n",
            "|      321|   18|\n",
            "|      362|   10|\n",
            "|      597|    2|\n",
            "|      375|   19|\n",
            "|      155|  156|\n",
            "|      108|   31|\n",
            "|      193|   12|\n",
            "|      530|    3|\n",
            "|      211|    9|\n",
            "+---------+-----+\n",
            "only showing top 20 rows\n",
            "\n"
          ]
        }
      ]
    },
    {
      "cell_type": "code",
      "source": [
        "data_clean.groupBy(\"Number of Doors\").count().show()"
      ],
      "metadata": {
        "colab": {
          "base_uri": "https://localhost:8080/"
        },
        "id": "am6tcTwSrCPt",
        "outputId": "83d70521-918f-4f41-de67-0cb481c7f86c"
      },
      "execution_count": 174,
      "outputs": [
        {
          "output_type": "stream",
          "name": "stdout",
          "text": [
            "+---------------+-----+\n",
            "|Number of Doors|count|\n",
            "+---------------+-----+\n",
            "|           null|   89|\n",
            "|              3|  395|\n",
            "|              4| 8273|\n",
            "|              2| 3157|\n",
            "+---------------+-----+\n",
            "\n"
          ]
        }
      ]
    },
    {
      "cell_type": "markdown",
      "source": [
        "ML"
      ],
      "metadata": {
        "id": "B7WVJy8ygZsx"
      }
    },
    {
      "cell_type": "code",
      "source": [
        "from pyspark.ml.feature import StringIndexer\n",
        "from pyspark.ml.feature import VectorAssembler\n",
        "indexer = StringIndexer(inputCol=\"Engine HP\", outputCol= \"HP_cat\",handleInvalid=\"skip\")\n",
        "indexed = indexer.fit(data_clean).transform(data_clean)\n",
        "indexer = StringIndexer(inputCol=\"Engine Cylinders\", outputCol= \"Cyl_cat\",handleInvalid=\"skip\")\n",
        "indexed = indexer.fit(indexed).transform(indexed)\n",
        "indexer = StringIndexer(inputCol=\"Number of Doors\", outputCol= \"Door_cat\",handleInvalid=\"skip\")\n",
        "indexed = indexer.fit(indexed).transform(indexed)\n",
        "indexer = StringIndexer(inputCol=\"highway MPG\", outputCol= \"hmpg_cat\",handleInvalid=\"skip\")\n",
        "indexed = indexer.fit(indexed).transform(indexed)\n",
        "indexer = StringIndexer(inputCol=\"city mpg\", outputCol= \"cmpg_cat\",handleInvalid=\"skip\")\n",
        "indexed = indexer.fit(indexed).transform(indexed)\n",
        "indexer = StringIndexer(inputCol=\"Popularity\", outputCol= \"pop_cat\",handleInvalid=\"skip\")\n",
        "indexed = indexer.fit(indexed).transform(indexed)\n",
        "indexer = StringIndexer(inputCol=\"MSRP\", outputCol= \"MSRP_cat\",handleInvalid=\"skip\")\n",
        "indexed = indexer.fit(indexed).transform(indexed)\n",
        "indexed.show(10)"
      ],
      "metadata": {
        "colab": {
          "base_uri": "https://localhost:8080/"
        },
        "id": "yWdr6zAygP0b",
        "outputId": "bd6905bc-0c5e-4ecc-b47d-5c3acec16083"
      },
      "execution_count": 152,
      "outputs": [
        {
          "output_type": "stream",
          "name": "stdout",
          "text": [
            "+---------+----------------+---------------+-----------+--------+----------+-----+------+-------+--------+--------+--------+-------+--------+\n",
            "|Engine HP|Engine Cylinders|Number of Doors|highway MPG|city mpg|Popularity| MSRP|HP_cat|Cyl_cat|Door_cat|hmpg_cat|cmpg_cat|pop_cat|MSRP_cat|\n",
            "+---------+----------------+---------------+-----------+--------+----------+-----+------+-------+--------+--------+--------+-------+--------+\n",
            "|      335|               6|              2|         26|      19|      3916|46135|  63.0|    1.0|     1.0|     2.0|     4.0|   13.0|   999.0|\n",
            "|      300|               6|              2|         28|      19|      3916|40650|   8.0|    1.0|     1.0|     5.0|     4.0|   13.0|   486.0|\n",
            "|      300|               6|              2|         28|      20|      3916|36350|   8.0|    1.0|     1.0|     5.0|     5.0|   13.0|  2019.0|\n",
            "|      230|               6|              2|         28|      18|      3916|29450|  31.0|    1.0|     1.0|     5.0|     3.0|   13.0|   216.0|\n",
            "|      230|               6|              2|         28|      18|      3916|34500|  31.0|    1.0|     1.0|     5.0|     3.0|   13.0|    47.0|\n",
            "|      230|               6|              2|         28|      18|      3916|31200|  31.0|    1.0|     1.0|     5.0|     3.0|   13.0|    75.0|\n",
            "|      300|               6|              2|         26|      17|      3916|44100|   8.0|    1.0|     1.0|     2.0|     0.0|   13.0|  2185.0|\n",
            "|      300|               6|              2|         28|      20|      3916|39300|   8.0|    1.0|     1.0|     5.0|     5.0|   13.0|    86.0|\n",
            "|      230|               6|              2|         28|      18|      3916|36900|  31.0|    1.0|     1.0|     5.0|     3.0|   13.0|    84.0|\n",
            "|      230|               6|              2|         27|      18|      3916|37200|  31.0|    1.0|     1.0|     6.0|     3.0|   13.0|   266.0|\n",
            "+---------+----------------+---------------+-----------+--------+----------+-----+------+-------+--------+--------+--------+-------+--------+\n",
            "only showing top 10 rows\n",
            "\n"
          ]
        }
      ]
    },
    {
      "cell_type": "code",
      "source": [
        "assembler = VectorAssembler(inputCols=['HP_cat',\n",
        " 'Cyl_cat',\n",
        " 'Door_cat',\n",
        " 'hmpg_cat','cmpg_cat','pop_cat',\n",
        " 'MSRP_cat',\n",
        " ], outputCol= \"Attributes\")\n",
        "\n",
        "output = assembler.transform(indexed)\n",
        "output.show(10)\n"
      ],
      "metadata": {
        "colab": {
          "base_uri": "https://localhost:8080/"
        },
        "id": "Mo7Gu3t_he5G",
        "outputId": "34083f46-0512-4176-89ef-56da41bbaf2b"
      },
      "execution_count": 153,
      "outputs": [
        {
          "output_type": "stream",
          "name": "stdout",
          "text": [
            "+---------+----------------+---------------+-----------+--------+----------+-----+------+-------+--------+--------+--------+-------+--------+--------------------+\n",
            "|Engine HP|Engine Cylinders|Number of Doors|highway MPG|city mpg|Popularity| MSRP|HP_cat|Cyl_cat|Door_cat|hmpg_cat|cmpg_cat|pop_cat|MSRP_cat|          Attributes|\n",
            "+---------+----------------+---------------+-----------+--------+----------+-----+------+-------+--------+--------+--------+-------+--------+--------------------+\n",
            "|      335|               6|              2|         26|      19|      3916|46135|  63.0|    1.0|     1.0|     2.0|     4.0|   13.0|   999.0|[63.0,1.0,1.0,2.0...|\n",
            "|      300|               6|              2|         28|      19|      3916|40650|   8.0|    1.0|     1.0|     5.0|     4.0|   13.0|   486.0|[8.0,1.0,1.0,5.0,...|\n",
            "|      300|               6|              2|         28|      20|      3916|36350|   8.0|    1.0|     1.0|     5.0|     5.0|   13.0|  2019.0|[8.0,1.0,1.0,5.0,...|\n",
            "|      230|               6|              2|         28|      18|      3916|29450|  31.0|    1.0|     1.0|     5.0|     3.0|   13.0|   216.0|[31.0,1.0,1.0,5.0...|\n",
            "|      230|               6|              2|         28|      18|      3916|34500|  31.0|    1.0|     1.0|     5.0|     3.0|   13.0|    47.0|[31.0,1.0,1.0,5.0...|\n",
            "|      230|               6|              2|         28|      18|      3916|31200|  31.0|    1.0|     1.0|     5.0|     3.0|   13.0|    75.0|[31.0,1.0,1.0,5.0...|\n",
            "|      300|               6|              2|         26|      17|      3916|44100|   8.0|    1.0|     1.0|     2.0|     0.0|   13.0|  2185.0|[8.0,1.0,1.0,2.0,...|\n",
            "|      300|               6|              2|         28|      20|      3916|39300|   8.0|    1.0|     1.0|     5.0|     5.0|   13.0|    86.0|[8.0,1.0,1.0,5.0,...|\n",
            "|      230|               6|              2|         28|      18|      3916|36900|  31.0|    1.0|     1.0|     5.0|     3.0|   13.0|    84.0|[31.0,1.0,1.0,5.0...|\n",
            "|      230|               6|              2|         27|      18|      3916|37200|  31.0|    1.0|     1.0|     6.0|     3.0|   13.0|   266.0|[31.0,1.0,1.0,6.0...|\n",
            "+---------+----------------+---------------+-----------+--------+----------+-----+------+-------+--------+--------+--------+-------+--------+--------------------+\n",
            "only showing top 10 rows\n",
            "\n"
          ]
        }
      ]
    },
    {
      "cell_type": "code",
      "source": [
        "from pyspark.ml.feature import StandardScaler\n",
        "\n",
        "scaler = StandardScaler(inputCol=\"Attributes\", outputCol=\"ScaledAttributes\",\n",
        "                        withStd=True, withMean=False)\n",
        "\n",
        "scalerModel = scaler.fit(output)\n",
        "scaledData = scalerModel.transform(output)\n",
        "\n",
        "scaledData.select(\"ScaledAttributes\",\"MSRP\")"
      ],
      "metadata": {
        "colab": {
          "base_uri": "https://localhost:8080/"
        },
        "id": "XGiVvyFHif6C",
        "outputId": "249b515e-ff1a-49b0-edac-6fbaf8264e89"
      },
      "execution_count": 156,
      "outputs": [
        {
          "output_type": "execute_result",
          "data": {
            "text/plain": [
              "DataFrame[ScaledAttributes: vector, MSRP: int]"
            ]
          },
          "metadata": {},
          "execution_count": 156
        }
      ]
    },
    {
      "cell_type": "code",
      "source": [
        "scaledData.show()"
      ],
      "metadata": {
        "colab": {
          "base_uri": "https://localhost:8080/"
        },
        "id": "YtyhH0IGogLr",
        "outputId": "4d997740-842b-4760-a2dc-c3faa1f6ece9"
      },
      "execution_count": 157,
      "outputs": [
        {
          "output_type": "stream",
          "name": "stdout",
          "text": [
            "+---------+----------------+---------------+-----------+--------+----------+-----+------+-------+--------+--------+--------+-------+--------+--------------------+--------------------+\n",
            "|Engine HP|Engine Cylinders|Number of Doors|highway MPG|city mpg|Popularity| MSRP|HP_cat|Cyl_cat|Door_cat|hmpg_cat|cmpg_cat|pop_cat|MSRP_cat|          Attributes|    ScaledAttributes|\n",
            "+---------+----------------+---------------+-----------+--------+----------+-----+------+-------+--------+--------+--------+-------+--------+--------------------+--------------------+\n",
            "|      335|               6|              2|         26|      19|      3916|46135|  63.0|    1.0|     1.0|     2.0|     4.0|   13.0|   999.0|[63.0,1.0,1.0,2.0...|[0.89129818786269...|\n",
            "|      300|               6|              2|         28|      19|      3916|40650|   8.0|    1.0|     1.0|     5.0|     4.0|   13.0|   486.0|[8.0,1.0,1.0,5.0,...|[0.11318072226827...|\n",
            "|      300|               6|              2|         28|      20|      3916|36350|   8.0|    1.0|     1.0|     5.0|     5.0|   13.0|  2019.0|[8.0,1.0,1.0,5.0,...|[0.11318072226827...|\n",
            "|      230|               6|              2|         28|      18|      3916|29450|  31.0|    1.0|     1.0|     5.0|     3.0|   13.0|   216.0|[31.0,1.0,1.0,5.0...|[0.43857529878958...|\n",
            "|      230|               6|              2|         28|      18|      3916|34500|  31.0|    1.0|     1.0|     5.0|     3.0|   13.0|    47.0|[31.0,1.0,1.0,5.0...|[0.43857529878958...|\n",
            "|      230|               6|              2|         28|      18|      3916|31200|  31.0|    1.0|     1.0|     5.0|     3.0|   13.0|    75.0|[31.0,1.0,1.0,5.0...|[0.43857529878958...|\n",
            "|      300|               6|              2|         26|      17|      3916|44100|   8.0|    1.0|     1.0|     2.0|     0.0|   13.0|  2185.0|[8.0,1.0,1.0,2.0,...|[0.11318072226827...|\n",
            "|      300|               6|              2|         28|      20|      3916|39300|   8.0|    1.0|     1.0|     5.0|     5.0|   13.0|    86.0|[8.0,1.0,1.0,5.0,...|[0.11318072226827...|\n",
            "|      230|               6|              2|         28|      18|      3916|36900|  31.0|    1.0|     1.0|     5.0|     3.0|   13.0|    84.0|[31.0,1.0,1.0,5.0...|[0.43857529878958...|\n",
            "|      230|               6|              2|         27|      18|      3916|37200|  31.0|    1.0|     1.0|     6.0|     3.0|   13.0|   266.0|[31.0,1.0,1.0,6.0...|[0.43857529878958...|\n",
            "|      300|               6|              2|         28|      20|      3916|39600|   8.0|    1.0|     1.0|     5.0|     5.0|   13.0|   942.0|[8.0,1.0,1.0,5.0,...|[0.11318072226827...|\n",
            "|      230|               6|              2|         28|      19|      3916|31500|  31.0|    1.0|     1.0|     5.0|     4.0|   13.0|   233.0|[31.0,1.0,1.0,5.0...|[0.43857529878958...|\n",
            "|      300|               6|              2|         28|      19|      3916|44400|   8.0|    1.0|     1.0|     5.0|     4.0|   13.0|   289.0|[8.0,1.0,1.0,5.0,...|[0.11318072226827...|\n",
            "|      230|               6|              2|         28|      19|      3916|37200|  31.0|    1.0|     1.0|     5.0|     4.0|   13.0|   266.0|[31.0,1.0,1.0,5.0...|[0.43857529878958...|\n",
            "|      230|               6|              2|         28|      19|      3916|31500|  31.0|    1.0|     1.0|     5.0|     4.0|   13.0|   233.0|[31.0,1.0,1.0,5.0...|[0.43857529878958...|\n",
            "|      320|               6|              2|         25|      18|      3916|48250|  46.0|    1.0|     1.0|     4.0|     3.0|   13.0|  1009.0|[46.0,1.0,1.0,4.0...|[0.65078915304260...|\n",
            "|      320|               6|              2|         28|      20|      3916|43550|  46.0|    1.0|     1.0|     5.0|     5.0|   13.0|   983.0|[46.0,1.0,1.0,5.0...|[0.65078915304260...|\n",
            "|      172|               6|              4|         24|      17|      3105| 2000|  75.0|    1.0|     0.0|     0.0|     0.0|   14.0|     0.0|(7,[0,1,5],[75.0,...|(7,[0,1,5],[1.061...|\n",
            "|      172|               6|              4|         24|      17|      3105| 2000|  75.0|    1.0|     0.0|     0.0|     0.0|   14.0|     0.0|(7,[0,1,5],[75.0,...|(7,[0,1,5],[1.061...|\n",
            "|      172|               6|              4|         20|      16|      3105| 2000|  75.0|    1.0|     0.0|     9.0|     1.0|   14.0|     0.0|[75.0,1.0,0.0,9.0...|[1.06106927126511...|\n",
            "+---------+----------------+---------------+-----------+--------+----------+-----+------+-------+--------+--------+--------+-------+--------+--------------------+--------------------+\n",
            "only showing top 20 rows\n",
            "\n"
          ]
        }
      ]
    },
    {
      "cell_type": "code",
      "source": [
        "model_df = scaledData.select(\"ScaledAttributes\",\"MSRP\")\n",
        "training_df, test_df = model_df.randomSplit([0.8,0.2])\n",
        "print(\"Count of training data: \", training_df.count())\n",
        "print(\"Count of testing data: \", test_df.count())"
      ],
      "metadata": {
        "colab": {
          "base_uri": "https://localhost:8080/"
        },
        "id": "BikYJ_uZpCzD",
        "outputId": "d0c0e19c-9b74-4678-fcb8-2f8478fae312"
      },
      "execution_count": 159,
      "outputs": [
        {
          "output_type": "stream",
          "name": "stdout",
          "text": [
            "Count of training data:  9491\n",
            "Count of testing data:  2311\n"
          ]
        }
      ]
    },
    {
      "cell_type": "code",
      "source": [
        "#import pyspark ml libraries\n",
        "from pyspark.ml.regression import LinearRegression\n",
        "\n",
        "#generating the LR object on the features\n",
        "linear_reg = LinearRegression(featuresCol = \"ScaledAttributes\", labelCol=\"MSRP\")\n",
        "\n",
        "#fit the model on training dataframe\n",
        "lr_model = linear_reg.fit(training_df)\n",
        "print(\"Coefficients: {} Intercept: {}\".format(lr_model.coefficients,lr_model.intercept))"
      ],
      "metadata": {
        "colab": {
          "base_uri": "https://localhost:8080/"
        },
        "id": "0DHxnWqMpTGS",
        "outputId": "c007afad-90b4-4f01-edd9-4203c0d5dd64"
      },
      "execution_count": 164,
      "outputs": [
        {
          "output_type": "stream",
          "name": "stdout",
          "text": [
            "Coefficients: [9925.607511219596,17960.16463312702,1084.466847018179,-3257.806905592846,11793.718411561245,15788.490808563076,7891.786547044824] Intercept: -20739.30685643809\n"
          ]
        }
      ]
    },
    {
      "cell_type": "code",
      "source": [
        "#Evaluate the results with the test data\n",
        "\n",
        "test_results = lr_model.evaluate(test_df)\n",
        "\n",
        "print(\"RMSE: {}\".format(test_results.rootMeanSquaredError))\n",
        "print(\"MSE: {}\".format(test_results.meanSquaredError))\n",
        "print(\"R2: {}\".format(test_results.r2))"
      ],
      "metadata": {
        "colab": {
          "base_uri": "https://localhost:8080/"
        },
        "id": "vI5GeIvGpc7C",
        "outputId": "5b955373-3065-4917-861b-766287e8b100"
      },
      "execution_count": 165,
      "outputs": [
        {
          "output_type": "stream",
          "name": "stdout",
          "text": [
            "RMSE: 70928.52875448742\n",
            "MSE: 5030856191.276148\n",
            "R2: 0.28671970828763793\n"
          ]
        }
      ]
    },
    {
      "cell_type": "code",
      "source": [
        "sales_df.columns\n",
        "df = sales_df.toPandas()\n",
        "df.head()"
      ],
      "metadata": {
        "colab": {
          "base_uri": "https://localhost:8080/",
          "height": 206
        },
        "id": "itAW-MY4B5JY",
        "outputId": "a822be0c-2eee-4f78-be63-ffcccd337193"
      },
      "execution_count": 166,
      "outputs": [
        {
          "output_type": "execute_result",
          "data": {
            "text/plain": [
              "   Engine HP  Engine Cylinders  Number of Doors  highway MPG  city mpg  \\\n",
              "0      335.0               6.0              2.0         26.0      19.0   \n",
              "1      300.0               6.0              2.0         28.0      19.0   \n",
              "2      300.0               6.0              2.0         28.0      20.0   \n",
              "3      230.0               6.0              2.0         28.0      18.0   \n",
              "4      230.0               6.0              2.0         28.0      18.0   \n",
              "\n",
              "   Popularity     MSRP  \n",
              "0      3916.0  46135.0  \n",
              "1      3916.0  40650.0  \n",
              "2      3916.0  36350.0  \n",
              "3      3916.0  29450.0  \n",
              "4      3916.0  34500.0  "
            ],
            "text/html": [
              "\n",
              "  <div id=\"df-b7fdda09-6ba5-4094-82cb-ccbe7d6747d4\">\n",
              "    <div class=\"colab-df-container\">\n",
              "      <div>\n",
              "<style scoped>\n",
              "    .dataframe tbody tr th:only-of-type {\n",
              "        vertical-align: middle;\n",
              "    }\n",
              "\n",
              "    .dataframe tbody tr th {\n",
              "        vertical-align: top;\n",
              "    }\n",
              "\n",
              "    .dataframe thead th {\n",
              "        text-align: right;\n",
              "    }\n",
              "</style>\n",
              "<table border=\"1\" class=\"dataframe\">\n",
              "  <thead>\n",
              "    <tr style=\"text-align: right;\">\n",
              "      <th></th>\n",
              "      <th>Engine HP</th>\n",
              "      <th>Engine Cylinders</th>\n",
              "      <th>Number of Doors</th>\n",
              "      <th>highway MPG</th>\n",
              "      <th>city mpg</th>\n",
              "      <th>Popularity</th>\n",
              "      <th>MSRP</th>\n",
              "    </tr>\n",
              "  </thead>\n",
              "  <tbody>\n",
              "    <tr>\n",
              "      <th>0</th>\n",
              "      <td>335.0</td>\n",
              "      <td>6.0</td>\n",
              "      <td>2.0</td>\n",
              "      <td>26.0</td>\n",
              "      <td>19.0</td>\n",
              "      <td>3916.0</td>\n",
              "      <td>46135.0</td>\n",
              "    </tr>\n",
              "    <tr>\n",
              "      <th>1</th>\n",
              "      <td>300.0</td>\n",
              "      <td>6.0</td>\n",
              "      <td>2.0</td>\n",
              "      <td>28.0</td>\n",
              "      <td>19.0</td>\n",
              "      <td>3916.0</td>\n",
              "      <td>40650.0</td>\n",
              "    </tr>\n",
              "    <tr>\n",
              "      <th>2</th>\n",
              "      <td>300.0</td>\n",
              "      <td>6.0</td>\n",
              "      <td>2.0</td>\n",
              "      <td>28.0</td>\n",
              "      <td>20.0</td>\n",
              "      <td>3916.0</td>\n",
              "      <td>36350.0</td>\n",
              "    </tr>\n",
              "    <tr>\n",
              "      <th>3</th>\n",
              "      <td>230.0</td>\n",
              "      <td>6.0</td>\n",
              "      <td>2.0</td>\n",
              "      <td>28.0</td>\n",
              "      <td>18.0</td>\n",
              "      <td>3916.0</td>\n",
              "      <td>29450.0</td>\n",
              "    </tr>\n",
              "    <tr>\n",
              "      <th>4</th>\n",
              "      <td>230.0</td>\n",
              "      <td>6.0</td>\n",
              "      <td>2.0</td>\n",
              "      <td>28.0</td>\n",
              "      <td>18.0</td>\n",
              "      <td>3916.0</td>\n",
              "      <td>34500.0</td>\n",
              "    </tr>\n",
              "  </tbody>\n",
              "</table>\n",
              "</div>\n",
              "      <button class=\"colab-df-convert\" onclick=\"convertToInteractive('df-b7fdda09-6ba5-4094-82cb-ccbe7d6747d4')\"\n",
              "              title=\"Convert this dataframe to an interactive table.\"\n",
              "              style=\"display:none;\">\n",
              "        \n",
              "  <svg xmlns=\"http://www.w3.org/2000/svg\" height=\"24px\"viewBox=\"0 0 24 24\"\n",
              "       width=\"24px\">\n",
              "    <path d=\"M0 0h24v24H0V0z\" fill=\"none\"/>\n",
              "    <path d=\"M18.56 5.44l.94 2.06.94-2.06 2.06-.94-2.06-.94-.94-2.06-.94 2.06-2.06.94zm-11 1L8.5 8.5l.94-2.06 2.06-.94-2.06-.94L8.5 2.5l-.94 2.06-2.06.94zm10 10l.94 2.06.94-2.06 2.06-.94-2.06-.94-.94-2.06-.94 2.06-2.06.94z\"/><path d=\"M17.41 7.96l-1.37-1.37c-.4-.4-.92-.59-1.43-.59-.52 0-1.04.2-1.43.59L10.3 9.45l-7.72 7.72c-.78.78-.78 2.05 0 2.83L4 21.41c.39.39.9.59 1.41.59.51 0 1.02-.2 1.41-.59l7.78-7.78 2.81-2.81c.8-.78.8-2.07 0-2.86zM5.41 20L4 18.59l7.72-7.72 1.47 1.35L5.41 20z\"/>\n",
              "  </svg>\n",
              "      </button>\n",
              "      \n",
              "  <style>\n",
              "    .colab-df-container {\n",
              "      display:flex;\n",
              "      flex-wrap:wrap;\n",
              "      gap: 12px;\n",
              "    }\n",
              "\n",
              "    .colab-df-convert {\n",
              "      background-color: #E8F0FE;\n",
              "      border: none;\n",
              "      border-radius: 50%;\n",
              "      cursor: pointer;\n",
              "      display: none;\n",
              "      fill: #1967D2;\n",
              "      height: 32px;\n",
              "      padding: 0 0 0 0;\n",
              "      width: 32px;\n",
              "    }\n",
              "\n",
              "    .colab-df-convert:hover {\n",
              "      background-color: #E2EBFA;\n",
              "      box-shadow: 0px 1px 2px rgba(60, 64, 67, 0.3), 0px 1px 3px 1px rgba(60, 64, 67, 0.15);\n",
              "      fill: #174EA6;\n",
              "    }\n",
              "\n",
              "    [theme=dark] .colab-df-convert {\n",
              "      background-color: #3B4455;\n",
              "      fill: #D2E3FC;\n",
              "    }\n",
              "\n",
              "    [theme=dark] .colab-df-convert:hover {\n",
              "      background-color: #434B5C;\n",
              "      box-shadow: 0px 1px 3px 1px rgba(0, 0, 0, 0.15);\n",
              "      filter: drop-shadow(0px 1px 2px rgba(0, 0, 0, 0.3));\n",
              "      fill: #FFFFFF;\n",
              "    }\n",
              "  </style>\n",
              "\n",
              "      <script>\n",
              "        const buttonEl =\n",
              "          document.querySelector('#df-b7fdda09-6ba5-4094-82cb-ccbe7d6747d4 button.colab-df-convert');\n",
              "        buttonEl.style.display =\n",
              "          google.colab.kernel.accessAllowed ? 'block' : 'none';\n",
              "\n",
              "        async function convertToInteractive(key) {\n",
              "          const element = document.querySelector('#df-b7fdda09-6ba5-4094-82cb-ccbe7d6747d4');\n",
              "          const dataTable =\n",
              "            await google.colab.kernel.invokeFunction('convertToInteractive',\n",
              "                                                     [key], {});\n",
              "          if (!dataTable) return;\n",
              "\n",
              "          const docLinkHtml = 'Like what you see? Visit the ' +\n",
              "            '<a target=\"_blank\" href=https://colab.research.google.com/notebooks/data_table.ipynb>data table notebook</a>'\n",
              "            + ' to learn more about interactive tables.';\n",
              "          element.innerHTML = '';\n",
              "          dataTable['output_type'] = 'display_data';\n",
              "          await google.colab.output.renderOutput(dataTable, element);\n",
              "          const docLink = document.createElement('div');\n",
              "          docLink.innerHTML = docLinkHtml;\n",
              "          element.appendChild(docLink);\n",
              "        }\n",
              "      </script>\n",
              "    </div>\n",
              "  </div>\n",
              "  "
            ]
          },
          "metadata": {},
          "execution_count": 166
        }
      ]
    },
    {
      "cell_type": "code",
      "source": [
        "#Visualizing distribution of categorical variables\n",
        "f,ax=plt.subplots(2,2,figsize=(20,15))\n",
        "df['Engine HP'].value_counts().plot.bar(ax=ax[0,0])\n",
        "ax[0,0].set_title('Engine HP Distribuion')\n",
        "df['Engine Cylinders'].value_counts().plot.bar(ax=ax[0,1])\n",
        "ax[0,1].set_title('Engine Cylinder Distribution')\n",
        "df['Popularity'].value_counts().plot.bar(ax=ax[1,0])\n",
        "ax[1,0].set_title('Popularity Distribution')\n",
        "df['city mpg'].value_counts().plot.bar(ax=ax[1,1])\n",
        "ax[1,1].set_title('MPG Distribution')\n",
        "plt.subplots_adjust(wspace=0.2,hspace=0.5)\n",
        "plt.show()"
      ],
      "metadata": {
        "colab": {
          "base_uri": "https://localhost:8080/",
          "height": 732
        },
        "id": "Ll1ji5D9DDhY",
        "outputId": "6b98399d-14f1-43b7-c059-938157f3e33c"
      },
      "execution_count": 167,
      "outputs": [
        {
          "output_type": "display_data",
          "data": {
            "text/plain": [
              "<Figure size 1440x1080 with 4 Axes>"
            ],
            "image/png": "[encoded data removed]"
          },
          "metadata": {
            "needs_background": "light"
          }
        }
      ]
    },
    {
      "cell_type": "code",
      "source": [
        "df.corr()\n",
        "sns.heatmap(df.corr())"
      ],
      "metadata": {
        "colab": {
          "base_uri": "https://localhost:8080/",
          "height": 361
        },
        "id": "uF2GwVE3E9kB",
        "outputId": "f952da55-3ab6-4367-809d-337e23f9065b"
      },
      "execution_count": 168,
      "outputs": [
        {
          "output_type": "execute_result",
          "data": {
            "text/plain": [
              "<matplotlib.axes._subplots.AxesSubplot at 0x7f5ebce20150>"
            ]
          },
          "metadata": {},
          "execution_count": 168
        },
        {
          "output_type": "display_data",
          "data": {
            "text/plain": [
              "<Figure size 432x288 with 2 Axes>"
            ],
            "image/png": "[encoded data removed]"
          },
          "metadata": {
            "needs_background": "light"
          }
        }
      ]
    },
    {
      "cell_type": "code",
      "source": [
        "plt.hist(df['Engine HP'])\n",
        "plt.show()\n",
        "plt.hist(df['Popularity'])\n",
        "plt.show()\n",
        "plt.hist(df['highway MPG'])\n",
        "plt.show()\n",
        "plt.hist(df['MSRP'])\n",
        "plt.show()"
      ],
      "metadata": {
        "colab": {
          "base_uri": "https://localhost:8080/",
          "height": 1000
        },
        "id": "fEiiR2s4j2gp",
        "outputId": "398635dc-0aab-47d4-cddd-d48f79e09d53"
      },
      "execution_count": 170,
      "outputs": [
        {
          "output_type": "display_data",
          "data": {
            "text/plain": [
              "<Figure size 432x288 with 1 Axes>"
            ],
            "image/png": "[encoded data removed]"
          },
          "metadata": {
            "needs_background": "light"
          }
        },
        {
          "output_type": "display_data",
          "data": {
            "text/plain": [
              "<Figure size 432x288 with 1 Axes>"
            ],
            "image/png": "[encoded data removed]"
          },
          "metadata": {
            "needs_background": "light"
          }
        },
        {
          "output_type": "display_data",
          "data": {
            "text/plain": [
              "<Figure size 432x288 with 1 Axes>"
            ],
            "image/png": "[encoded data removed]"
          },
          "metadata": {
            "needs_background": "light"
          }
        },
        {
          "output_type": "display_data",
          "data": {
            "text/plain": [
              "<Figure size 432x288 with 1 Axes>"
            ],
            "image/png": "[encoded data removed]"
          },
          "metadata": {
            "needs_background": "light"
          }
        }
      ]
    }
  ]
}